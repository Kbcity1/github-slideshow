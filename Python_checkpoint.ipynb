{
  "nbformat": 4,
  "nbformat_minor": 0,
  "metadata": {
    "colab": {
      "provenance": [],
      "authorship_tag": "ABX9TyNmfnHdYfwUTt2jaWiRXBvG",
      "include_colab_link": true
    },
    "kernelspec": {
      "name": "python3",
      "display_name": "Python 3"
    },
    "language_info": {
      "name": "python"
    }
  },
  "cells": [
    {
      "cell_type": "markdown",
      "metadata": {
        "id": "view-in-github",
        "colab_type": "text"
      },
      "source": [
        "<a href=\"https://colab.research.google.com/github/Kbcity1/github-slideshow/blob/master/Python_checkpoint.ipynb\" target=\"_parent\"><img src=\"https://colab.research.google.com/assets/colab-badge.svg\" alt=\"Open In Colab\"/></a>"
      ]
    },
    {
      "cell_type": "code",
      "execution_count": 1,
      "metadata": {
        "colab": {
          "base_uri": "https://localhost:8080/"
        },
        "id": "sypgfY59kLIz",
        "outputId": "3fdaa966-a978-44b7-f185-e3c0ec240636"
      },
      "outputs": [
        {
          "output_type": "stream",
          "name": "stdout",
          "text": [
            "Welcome to Python Pizza Deliveries\n",
            "What size of pizza do you want? M\n",
            "Do you want pepperoni on your pizza? Yes\n",
            "Do you want extra cheese on your pizza? No\n",
            "Total bill: $23\n"
          ]
        }
      ],
      "source": [
        "print(\"Welcome to Python Pizza Deliveries\")\n",
        "size = input(\"What size of pizza do you want? \")\n",
        "add_pepperoni = input(\"Do you want pepperoni on your pizza? \")\n",
        "extra_cheese = input(\"Do you want extra cheese on your pizza? \")\n",
        "bill = 0\n",
        "bill = int(bill)\n",
        "if size == ('S'):\n",
        "  bill = 15\n",
        "if size == ('M'):\n",
        "  bill = 20\n",
        "if size == ('L'):\n",
        "  bill = 25\n",
        "if size == 'S':\n",
        "  if add_pepperoni == 'Yes':\n",
        "    bill += 2\n",
        "if size == ('M') or ('L'):\n",
        "  if add_pepperoni == 'Yes':\n",
        "    bill += 3\n",
        "if extra_cheese == 'Yes':\n",
        "  bill += 1\n",
        "\n",
        "total_bill = bill\n",
        "total_bill = int(total_bill)\n",
        "print(f'Total bill: ${total_bill}')"
      ]
    }
  ]
}